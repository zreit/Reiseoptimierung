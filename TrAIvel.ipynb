{
  "nbformat": 4,
  "nbformat_minor": 0,
  "metadata": {
    "colab": {
      "name": "TrAIvel.ipynb",
      "provenance": []
    },
    "kernelspec": {
      "name": "python3",
      "display_name": "Python 3"
    },
    "language_info": {
      "name": "python"
    }
  },
  "cells": [
    {
      "cell_type": "markdown",
      "source": [
        "# TrAIvel"
      ],
      "metadata": {
        "id": "Viqp1cHJS7Cr"
      }
    },
    {
      "cell_type": "code",
      "execution_count": null,
      "metadata": {
        "id": "dRfjBXno3F35"
      },
      "outputs": [],
      "source": [
        "pip install vvspy"
      ]
    },
    {
      "cell_type": "markdown",
      "source": [
        "## Trips From Stutttgart To Esslingen\n",
        "\n",
        "This method shows, how to get all trips from Stuttgart to Esslingen at a specific time. With the actually delay on the origin and destination station."
      ],
      "metadata": {
        "id": "1pj9-rqgUx6_"
      }
    },
    {
      "cell_type": "code",
      "source": [
        "import vvspy # also usable: get_trips\n",
        "\n",
        "import datetime\n",
        "\n",
        "\n",
        "trips = vvspy.get_trips(\"5006118\", \"7800\", limit=10, check_time=datetime.datetime(2022,5,19, 14, 00))  \n",
        "\n",
        "for trip in trips:\n",
        "  for connection in trip.connections:\n",
        "    print(connection)\n",
        "    print(connection.origin.delay)\n",
        "    print(connection.destination.delay)"
      ],
      "metadata": {
        "colab": {
          "base_uri": "https://localhost:8080/"
        },
        "id": "6tbjgRys3SlW",
        "outputId": "0f4c3f5c-836b-4004-80a7-7e86080017f5"
      },
      "execution_count": null,
      "outputs": [
        {
          "output_type": "stream",
          "name": "stdout",
          "text": [
            "[RE5]: [Delayed] [12:02] @ Stuttgart Hauptbahnhof (oben) - [12:11] @ Esslingen (N)\n",
            "1\n",
            "0\n",
            "[S1]: [12:10] @ Stuttgart Hauptbahnhof (tief) - [12:27] @ Esslingen (N)\n",
            "0\n",
            "0\n",
            "[RB18]: [12:23] @ Stuttgart Hauptbahnhof (oben) - [12:34] @ Esslingen (N)\n",
            "0\n",
            "0\n",
            "[MEX16]: [12:29] @ Stuttgart Hauptbahnhof (oben) - [12:40] @ Esslingen (N)\n",
            "0\n",
            "0\n"
          ]
        }
      ]
    },
    {
      "cell_type": "markdown",
      "source": [
        "## All Depatures From Stuttgart\n",
        "\n",
        "This method shows, how to get all departures from Stuttgart, filtered by the direction to Esslingen and the S1."
      ],
      "metadata": {
        "id": "nbMoAWsIVaaY"
      }
    },
    {
      "cell_type": "code",
      "source": [
        "from vvspy import get_departures\n",
        "\n",
        "deps = get_departures(\"5006118\", limit=100)  # Stuttgart main station\n",
        "for dep in deps:\n",
        "    if dep.serving_line.symbol == \"S1\":\n",
        "      if dep.serving_line.direction == \"Kirchheim (T)\" or dep.serving_line.direction == \"Plochingen\":\n",
        "        print(dep);"
      ],
      "metadata": {
        "colab": {
          "base_uri": "https://localhost:8080/"
        },
        "id": "AgSDJw943d4Z",
        "outputId": "fda6b363-6eca-41ad-9c0f-e22c2fbda6d4"
      },
      "execution_count": null,
      "outputs": [
        {
          "output_type": "stream",
          "name": "stdout",
          "text": [
            "[11:40] [S1]: Schwabstraße - Plochingen\n",
            "[11:55] [S1]: Herrenberg - Kirchheim (T)\n",
            "[12:10] [S1]: Schwabstraße - Plochingen\n",
            "[12:25] [S1]: Herrenberg - Kirchheim (T)\n",
            "[12:40] [S1]: Schwabstraße - Plochingen\n",
            "[Delayed] [13:02] [S1]: Herrenberg - Kirchheim (T)\n",
            "[Delayed] [13:13] [S1]: Schwabstraße - Plochingen\n",
            "[Delayed] [13:26] [S1]: Herrenberg - Kirchheim (T)\n",
            "[Delayed] [13:41] [S1]: Schwabstraße - Plochingen\n"
          ]
        }
      ]
    },
    {
      "cell_type": "markdown",
      "source": [
        "## TrAIvel Algorithm\n",
        "\n",
        "This section is our algorithm. It calculates from the given data some statitical information. \n",
        "\n",
        "First, it calculates, how much trains was on time.\n",
        "After that, is calculates the average delay of the delayed trains"
      ],
      "metadata": {
        "id": "4MEYyqnoUvR4"
      }
    },
    {
      "cell_type": "code",
      "source": [
        "file = open(\"data.csv\")\n",
        "s1_10 = []\n",
        "s1_10_ot = 0\n",
        "s1_25 = []\n",
        "s1_25_ot = 0\n",
        "s1_40 = []\n",
        "s1_40_ot = 0\n",
        "s1_55 = []\n",
        "s1_55_ot = 0\n",
        "re5_14 = []\n",
        "re5_14_ot = 0\n",
        "re5_15 = []\n",
        "re5_15_ot = 0\n",
        "\n",
        "for line in file:\n",
        "  if \"S1\" and \"14:10\" in line:\n",
        "    delay =  int( line.split(\";\")[4][:-1])\n",
        "    if delay == 0:\n",
        "      s1_10_ot = s1_10_ot + 1\n",
        "    else:\n",
        "      s1_10.append(delay)\n",
        "    \n",
        "  if \"S1\" and \"14:25\" in line:\n",
        "    delay = int( line.split(\";\")[4][:-1])\n",
        "    if delay == 0:\n",
        "      s1_25_ot = s1_25_ot +1\n",
        "    else:\n",
        "      s1_25.append(delay)\n",
        "   \n",
        "  if \"S1\" and \"14:40\" in line:\n",
        "    delay = int( line.split(\";\")[4][:-1])\n",
        "    if delay == 0:\n",
        "      s1_40_ot = s1_40_ot + 1\n",
        "    else:\n",
        "      s1_40.append(delay)\n",
        "    \n",
        "  if \"S1\" and \"14:55\" in line:\n",
        "   delay = int( line.split(\";\")[4][:-1])\n",
        "   if delay == 0:\n",
        "      s1_55_ot = s1_55_ot + 1\n",
        "   else:\n",
        "      s1_55.append(delay)\n",
        "  \n",
        "  if \"RE5\" and \"14:01\" in line:\n",
        "    delay = int(line.split(\";\")[4][:-1])\n",
        "    if delay == 0:\n",
        "      re5_14_ot = re5_14_ot + 1\n",
        "    else:\n",
        "      re5_14.append(delay)\n",
        "\n",
        "  if \"RE5\" and \"15:01\" in line:\n",
        "    delay = int(line.split(\";\")[4][:-1])\n",
        "    if delay == 0:\n",
        "      re5_15_ot = re5_15_ot + 1\n",
        "    else:\n",
        "      re5_15.append(delay)\n",
        "\n",
        "\n",
        "s1_10_avg = sum(s1_10) / len(s1_10)\n",
        "s1_25_avg = sum(s1_25) / len(s1_25)\n",
        "s1_40_avg = sum(s1_40) / len(s1_40)\n",
        "s1_55_avg = sum(s1_55) / len(s1_55)\n",
        "re5_14_avg = sum(re5_14) / len(re5_14)\n",
        "re5_15_avg = sum(re5_15) / len(re5_15)\n",
        "\n",
        "\n",
        "print(\"S1 at 14:10:   \"  + str(round((1 - (s1_10_ot/(s1_10_ot + len(s1_10))))*100)) + \"% have avg \"     + str(round(s1_10_avg)) + \" min delay.\")\n",
        "print(\"S1 at 14:25:   \" + str(round((1 - (s1_25_ot/(s1_25_ot + len(s1_25))))*100)) + \"% have avg \"     + str(round(s1_25_avg))+ \" min delay.\")\n",
        "print(\"S1 at 14:40:   \" + str(round((1 - (s1_40_ot/(s1_40_ot + len(s1_40))))*100)) + \"% have avg \"     + str(round(s1_40_avg))+ \" min delay.\")\n",
        "print(\"S1 at 14:55:   \" + str(round((1 - (s1_55_ot/(s1_55_ot + len(s1_55))))*100)) + \"% have avg \"     + str(round(s1_55_avg))+ \" min delay.\")\n",
        "print(\"RE5 at 14:01   \" + str(round((1 - (re5_14_ot/(re5_14_ot + len(re5_14))))*100)) + \"% have avg \"     + str(round(re5_14_avg))+ \" min delay.\")\n",
        "print(\"RE5 at 15:01   \" + str(round((1 - (re5_15_ot/(re5_15_ot + len(re5_15))))*100)) + \"% have avg \"     + str(round(re5_15_avg))+ \" min delay.\")"
      ],
      "metadata": {
        "colab": {
          "base_uri": "https://localhost:8080/"
        },
        "id": "kmfPT-t8ogV5",
        "outputId": "165affb4-601c-413a-ff0f-34ea67544cd3",
        "cellView": "code"
      },
      "execution_count": null,
      "outputs": [
        {
          "output_type": "stream",
          "name": "stdout",
          "text": [
            "S1 at 14:10:   74% have avg 8 min delay.\n",
            "S1 at 14:25:   44% have avg 4 min delay.\n",
            "S1 at 14:40:   46% have avg 5 min delay.\n",
            "S1 at 14:55:   29% have avg 4 min delay.\n",
            "RE5 at 14:01   50% have avg 5 min delay.\n",
            "RE5 at 15:01   52% have avg 5 min delay.\n"
          ]
        }
      ]
    }
  ]
}
